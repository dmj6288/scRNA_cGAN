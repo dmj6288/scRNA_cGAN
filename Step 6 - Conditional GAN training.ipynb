{
 "cells": [
  {
   "cell_type": "code",
   "execution_count": null,
   "id": "d921930b-9335-474a-baef-66dd534bc12c",
   "metadata": {},
   "outputs": [],
   "source": [
    "\n",
    "import pandas as pd\n",
    "import pickle as pkl\n",
    "import scanpy as sc\n",
    "import anndata as ad\n",
    "import numpy as np\n"
   ]
  },
  {
   "cell_type": "code",
   "execution_count": null,
   "id": "38dc4893-dde4-43f9-9e4c-43003965a37b",
   "metadata": {},
   "outputs": [],
   "source": [
    "\n",
    "cell_embeddings = pd.read_csv(\"../ZafrensData/latent_embeddings_zel024.csv\")\n",
    "adata = sc.read_h5ad(\"../ZafrensData/zel024/rnaseq/4073_4074_pseudobulk.h5ad\")\n",
    "\n",
    "with open(\"../ZafrensData/final_dataset/images_34K.pkl\", \"rb\") as file:\n",
    "    images_34K = pkl.load(file)\n",
    "\n",
    "with open(\"../ZafrensData/final_dataset/images_metadata_34K.pkl\", \"rb\") as file:\n",
    "    images_metadata_34K = pkl.load(file)\n",
    "    "
   ]
  }
 ],
 "metadata": {
  "kernelspec": {
   "display_name": "Python 3 (ipykernel)",
   "language": "python",
   "name": "python3"
  },
  "language_info": {
   "codemirror_mode": {
    "name": "ipython",
    "version": 3
   },
   "file_extension": ".py",
   "mimetype": "text/x-python",
   "name": "python",
   "nbconvert_exporter": "python",
   "pygments_lexer": "ipython3",
   "version": "3.12.8"
  }
 },
 "nbformat": 4,
 "nbformat_minor": 5
}
